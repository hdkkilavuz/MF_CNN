{
 "cells": [
  {
   "cell_type": "code",
   "execution_count": null,
   "id": "e2378514",
   "metadata": {},
   "outputs": [],
   "source": [
    "import numpy as np\n",
    "import matplotlib.pyplot as plt\n",
    "from seaborn import heatmap\n",
    "from sklearn.metrics import confusion_matrix, classification_report\n",
    "from sklearn import svm, tree, neighbors, ensemble, gaussian_process"
   ]
  },
  {
   "cell_type": "code",
   "execution_count": null,
   "id": "19285aa0",
   "metadata": {},
   "outputs": [],
   "source": [
    "nClass = 2\n",
    "Classes = list()\n",
    "for n in range(nClass):\n",
    "    Classes.append(f\"Class {n}\")\n",
    "print(f\"Class Number : {nClass}\\n{Classes}\")"
   ]
  },
  {
   "cell_type": "code",
   "execution_count": null,
   "id": "2784a138",
   "metadata": {},
   "outputs": [],
   "source": [
    "ablations = ['', '-PVI', '-BOX']\n",
    "fibrosis = ['50PF', '70PF', '71PF']\n",
    "fibnames = ['moderate fibrosis', 'severe fibrosis - case 1', 'severe fibrosis - case 2']\n",
    "abnames = ['', ' - PVI', ' - PVI + BOX']\n",
    "Cases = []\n",
    "for f in fibrosis:\n",
    "    for a in ablations:\n",
    "        Cases.append(f + a)\n",
    "Names = []\n",
    "for f in fibnames:\n",
    "    for a in abnames:\n",
    "        Names.append(f + a)\n",
    "IdCase = 3\n",
    "print(f\"      cases : {Cases}\")\n",
    "print(f\"      names : {Names}\")\n",
    "print(f\"picked case : {Names[IdCase]}\")"
   ]
  },
  {
   "cell_type": "code",
   "execution_count": null,
   "id": "7f806afd",
   "metadata": {},
   "outputs": [],
   "source": [
    "N_H = 40\n",
    "N_L = 100\n",
    "Path = \"../Datasets/\"\n",
    "ChoosePoints = True\n",
    "Y_L_all = np.load(Path + \"LF_train-%s.npz\" % Cases[IdCase])[\"output\"]\n",
    "Y_L = Y_L_all[:N_L]\n",
    "Y_H_all = np.load(Path + \"HF_train-%s.npz\" % Cases[IdCase])[\"output\"]\n",
    "Y_H = Y_H_all[:N_H]\n",
    "y_true = np.load(Path + \"ground_truth-%s.npz\" % Cases[IdCase])[\"output\"]\n",
    "TrainPoints = np.genfromtxt(Path + \"train_points.csv\").astype(float)\n",
    "TruePoints = np.genfromtxt(Path + \"ground_truth_points.csv\").astype(float)\n",
    "if ChoosePoints:\n",
    "    X_true = TruePoints[:N_L,:3]\n",
    "    X_L = TrainPoints[:N_L,:3]\n",
    "    X_H = TrainPoints[:N_H,:3]\n",
    "else:\n",
    "    X_true = TruePoints[:N_L,3]\n",
    "    X_L = TrainPoints[:N_L,3]\n",
    "    X_H = TrainPoints[:N_H,3]"
   ]
  },
  {
   "cell_type": "code",
   "execution_count": null,
   "id": "fc3f9750",
   "metadata": {},
   "outputs": [],
   "source": [
    "[Y_L_all.shape, Y_H_all.shape]"
   ]
  },
  {
   "cell_type": "code",
   "execution_count": null,
   "id": "05ed95b8",
   "metadata": {},
   "outputs": [],
   "source": [
    "[X_true.shape, y_true.shape, X_L.shape, Y_L.shape, X_H.shape, Y_H.shape]"
   ]
  },
  {
   "cell_type": "code",
   "execution_count": null,
   "id": "7a69288b",
   "metadata": {},
   "outputs": [],
   "source": [
    "SecLH = 1\n",
    "if SecLH == 0:\n",
    "    xTrain, yTrain = X_L, Y_L\n",
    "else:\n",
    "    xTrain, yTrain = X_H, Y_H\n",
    "xTest = X_true\n",
    "yTest = y_true\n",
    "if len(xTrain.shape) == 1:\n",
    "    xTrain = np.expand_dims(xTrain, axis=-1)\n",
    "    xTest = np.expand_dims(xTest, axis=-1)\n",
    "[xTrain.shape, yTrain.shape, xTest.shape, yTest.shape]"
   ]
  },
  {
   "cell_type": "code",
   "execution_count": null,
   "id": "10e2bf30",
   "metadata": {},
   "outputs": [],
   "source": [
    "xMin, xMax = xTrain.min(axis=0), xTrain.max(axis=0)\n",
    "xTrain = (xTrain-xMin) / (xMax-xMin)\n",
    "xTest = (xTest-xMin) / (xMax-xMin)\n",
    "[xTrain.min(axis=0), xTrain.max(axis=0), xTest.min(axis=0), xTest.max(axis=0)]"
   ]
  },
  {
   "cell_type": "code",
   "execution_count": null,
   "id": "f9b44fe6",
   "metadata": {},
   "outputs": [],
   "source": [
    "SecModel = 1\n",
    "if SecModel == 0:\n",
    "    print(\"Gaussian Process Classifier\")\n",
    "    ClassModel = gaussian_process.GaussianProcessClassifier()\n",
    "elif SecModel == 1:\n",
    "    print(\"Decision Tree\")\n",
    "    ClassModel = tree.DecisionTreeClassifier()\n",
    "elif SecModel == 2:\n",
    "    print(\"Random Forest\")\n",
    "    ClassModel = ensemble.RandomForestClassifier(n_estimators=50, warm_start=True)\n",
    "elif SecModel == 3:\n",
    "    print(\"Extra Trees\")\n",
    "    ClassModel = ensemble.ExtraTreesClassifier(n_estimators=50, warm_start=True)\n",
    "elif SecModel == 4:\n",
    "    print(\"KNeighbors\")\n",
    "    ClassModel = neighbors.KNeighborsClassifier(n_neighbors=3)\n",
    "else:\n",
    "    print(\"Support Vector Machine\")\n",
    "    ClassModel = svm.SVC()\n",
    "ClassModel.fit(xTrain,yTrain)"
   ]
  },
  {
   "cell_type": "code",
   "execution_count": null,
   "id": "df47d529",
   "metadata": {},
   "outputs": [],
   "source": [
    "nTest = yTest.shape[0]\n",
    "yTestPred = ClassModel.predict(xTest)\n",
    "yTestFound = sum(yTest==yTestPred)\n",
    "yTestPercent = 100*yTestFound/nTest\n",
    "nTrain = yTrain.shape[0]\n",
    "yTrainPred = ClassModel.predict(xTrain)\n",
    "yTrainFound = sum(yTrain==yTrainPred)\n",
    "yTrainPercent = 100*yTrainFound/nTrain\n",
    "print(f\"Train Accuracy : {yTrainPercent:.6g} % ({yTrainFound} / {nTrain})\")\n",
    "print(f\" Test Accuracy : {yTestPercent:.6g} % ({yTestFound} / {nTest})\")"
   ]
  },
  {
   "cell_type": "code",
   "execution_count": null,
   "id": "c19cbb75",
   "metadata": {},
   "outputs": [],
   "source": [
    "ConMatTrain = confusion_matrix(yTrain, yTrainPred)\n",
    "ConMatTest = confusion_matrix(yTest, yTestPred)\n",
    "print(\"For Train Data\", ConMatTrain, sep=\"\\n\", end=\"\\n\\n\")\n",
    "print(\"For Test Data\", ConMatTest, sep=\"\\n\", end=\"\\n\\n\")"
   ]
  },
  {
   "cell_type": "code",
   "execution_count": null,
   "id": "de8d6813",
   "metadata": {},
   "outputs": [],
   "source": [
    "plt.figure(figsize=(10,4), dpi=100)\n",
    "plt.subplot(1,2,1)\n",
    "heatmap(data=ConMatTrain, cmap='Blues', linewidths=1, linecolor='gray',\n",
    "        fmt='d', annot=True, xticklabels=Classes, yticklabels=Classes)\n",
    "plt.title(\"For Train Data\", fontsize = 10)\n",
    "plt.xlabel(\"Predicted Classes\", fontsize = 10)\n",
    "plt.ylabel(\"True Classes\", fontsize = 10)\n",
    "plt.subplot(1,2,2)\n",
    "heatmap(data=ConMatTest, cmap='Blues', linewidths=1, linecolor='gray',\n",
    "        fmt='d', annot=True, xticklabels=Classes, yticklabels=Classes)\n",
    "plt.title(\"For Test Data\", fontsize = 10)\n",
    "plt.xlabel(\"Predicted Classes\", fontsize = 10)\n",
    "plt.ylabel(\"True Classes\", fontsize = 10)\n",
    "plt.show()"
   ]
  },
  {
   "cell_type": "code",
   "execution_count": null,
   "id": "b9c5e4f6",
   "metadata": {},
   "outputs": [],
   "source": [
    "print('For Train Data')\n",
    "print(classification_report(yTrain, yTrainPred, target_names=Classes, digits=4))\n",
    "print('For Test Data')\n",
    "print(classification_report(yTest, yTestPred, target_names=Classes, digits=4))"
   ]
  },
  {
   "cell_type": "code",
   "execution_count": null,
   "id": "f07720b5",
   "metadata": {},
   "outputs": [],
   "source": []
  }
 ],
 "metadata": {
  "kernelspec": {
   "display_name": "Python 3",
   "language": "python",
   "name": "python3"
  },
  "language_info": {
   "codemirror_mode": {
    "name": "ipython",
    "version": 3
   },
   "file_extension": ".py",
   "mimetype": "text/x-python",
   "name": "python",
   "nbconvert_exporter": "python",
   "pygments_lexer": "ipython3",
   "version": "3.6.8"
  }
 },
 "nbformat": 4,
 "nbformat_minor": 5
}
